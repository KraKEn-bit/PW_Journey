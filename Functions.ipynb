{
  "nbformat": 4,
  "nbformat_minor": 0,
  "metadata": {
    "colab": {
      "provenance": []
    },
    "kernelspec": {
      "name": "python3",
      "display_name": "Python 3"
    },
    "language_info": {
      "name": "python"
    }
  },
  "cells": [
    {
      "cell_type": "markdown",
      "source": [
        "1. What is the difference between a function and a method in Python?\n",
        "\n",
        "  Ans: In Python, the main difference between a function and a method is how they are associated with objects:A function is an independent block of code that performs a specific task.It is defined using the def keyword and can be called without being tied to a specific object. It can take arguments and return values.\n",
        "  \n",
        "  A method is a function that is associated with an object ( defined inside a class).It is called on an instance of a class and can access or modify the instance’s attributes.Methods in a class always take self as the first parameter (except for @staticmethod and @classmethod).\n",
        "\n",
        "2. Explain the concept of function arguments and parameters in Python.\n",
        "\n",
        "  Ans: In Python, function arguments and parameters are used to pass information to functionsParameters are placeholders defined in the function signature.Arguments are the actual values passed when calling the function.\n",
        "\n",
        "3. What are the different ways to define and call a function in Python.\n",
        "\n",
        "  Ans: A function is defined using the def keyword.\n",
        "\n",
        "    def greet():\n",
        "\n",
        "    print(\"Hello, World!\")\n",
        "\n",
        "    greet()  # Calling the function\n",
        "\n",
        "4. What is the purpose of the `return` statement in a Python function?\n",
        "\n",
        "  Ans: The return statement in a Python function terminates the function and sends a value back to the caller. It is used to return a result instead of just printing it.\n",
        "\n",
        "5. What are iterators in Python and how do they differ from iterables?\n",
        "\n",
        "  Ans: An iterable is an object that contains a collection of elements and can return an iterator to traverse those elements.\n",
        "\n",
        "  An iterator is an object that remembers its position while iterating through elements one at a time using __next__().\n",
        "\n",
        "6. Explain the concept of generators in Python and how they are defined.\n",
        "\n",
        "  Ans: A generator is a special type of iterator that generates values lazily (one at a time) instead of storing everything in memory. It is defined using the yield keyword.\n",
        "\n",
        "7. What are the advantages of using generators over regular functions?\n",
        "\n",
        "  Ans: It generates values one at a time reducing memory usage.\n",
        "\n",
        "8.  What is a lambda function in Python and when is it typically used?\n",
        "\n",
        "  Ans: A lambda function is an anonymous, inline function that can have multiple arguments but only one expression. It is created using the lambda keyword.\n",
        "\n",
        "9.  Explain the purpose and usage of the `map()` function in Python.\n",
        "\n",
        "  Ans: The map() function is used to apply a given function to all items in an iterable (list, tuple) and return an iterator with the transformed values.Converts data types.\n",
        "\n",
        "10.  What is the difference between `map()`, `reduce()`, and `filter()` functions in Python?\n",
        "\n",
        "  Ans: map() - Applies a function to each element in an iterable.\n",
        "\n",
        "      filter()-\tFilters elements based on a condition\n",
        "\n",
        "      reduce()- Applies a function cumulatively to reduce iterable to a single value\n",
        "\n",
        "11. Using pen & Paper write the internal mechanism for sum operation using  reduce function on this given  list:[47,11,42,13].\n",
        "  \n",
        "  Ans: The answer for this question is attached externally.\n"
      ],
      "metadata": {
        "id": "9pKomeDwDltS"
      }
    },
    {
      "cell_type": "code",
      "execution_count": null,
      "metadata": {
        "id": "TVeZXrL-DkS4",
        "colab": {
          "base_uri": "https://localhost:8080/"
        },
        "outputId": "509dadc2-c110-4a5c-8e07-f8b3188366a5"
      },
      "outputs": [
        {
          "output_type": "stream",
          "name": "stdout",
          "text": [
            "Enter numbers: 12,4,5,6\n",
            "22\n"
          ]
        }
      ],
      "source": [
        " #1. Write a Python function that takes a list of numbers as input and returns the sum of all even numbers in the list\n",
        "def sum_all_even(lst2):\n",
        "      total_sum=0\n",
        "      for i in lst2:\n",
        "          if(i%2==0):\n",
        "            total_sum+=i\n",
        "      print(total_sum)\n",
        "\n",
        "nums = list(map(int, input(\"Enter numbers: \").split(',')))\n",
        "sum_all_even(nums)"
      ]
    },
    {
      "cell_type": "code",
      "source": [
        "#2. Create a Python function that accepts a string and returns the reverse of that string.\n",
        "def reversed_str(word):\n",
        "   print(word[::-1])\n",
        "\n",
        "word = input(\"Enter a word: \")\n",
        "reversed_str(word)"
      ],
      "metadata": {
        "colab": {
          "base_uri": "https://localhost:8080/"
        },
        "id": "7s-KlC5d2Spc",
        "outputId": "81a60f81-823f-4d3d-d4b8-4c340e397a19"
      },
      "execution_count": null,
      "outputs": [
        {
          "output_type": "stream",
          "name": "stdout",
          "text": [
            "Enter a word: rafsan\n",
            "nasfar\n"
          ]
        }
      ]
    },
    {
      "cell_type": "code",
      "source": [
        "#3.  Implement a Python function that takes a list of integers and returns a new list containing the squares of each number\n",
        "def squares(lst2):\n",
        "    for i in lst2:\n",
        "      print(i**2)\n",
        "squares([1,2,3,4])\n"
      ],
      "metadata": {
        "id": "K-2xOp1l4W-n",
        "colab": {
          "base_uri": "https://localhost:8080/"
        },
        "outputId": "6401531b-ed02-4cfb-de3b-318615e9d4a4"
      },
      "execution_count": null,
      "outputs": [
        {
          "output_type": "stream",
          "name": "stdout",
          "text": [
            "1\n",
            "4\n",
            "9\n",
            "16\n"
          ]
        }
      ]
    },
    {
      "cell_type": "code",
      "source": [
        " #4. Write a Python function that checks if a given number is prime or not from 1 to 200\n",
        "def prime(numbs):\n",
        "  count=0\n",
        "  found=0\n",
        "  for i in range(1,numbs):\n",
        "      if(numbs%i==0):\n",
        "        count+=1\n",
        "      if(count>2):\n",
        "        found=1\n",
        "  if(found):\n",
        "    print(\"The number is not prime!\")\n",
        "  else:\n",
        "    print(\"The number is prime!\")\n",
        "prime(200)"
      ],
      "metadata": {
        "colab": {
          "base_uri": "https://localhost:8080/"
        },
        "id": "oC8wBl1OmsXU",
        "outputId": "0eba604b-8edf-4b1a-d404-a1062ae891c2"
      },
      "execution_count": null,
      "outputs": [
        {
          "output_type": "stream",
          "name": "stdout",
          "text": [
            "The number is not prime!\n"
          ]
        }
      ]
    },
    {
      "cell_type": "code",
      "source": [
        "#5. Create an iterator class in Python that generates the Fibonacci sequence up to a specified number of terms\n",
        "def fibonacci(numbs):\n",
        "    first, second = 0, 1\n",
        "    fib_sequence = []\n",
        "    for _ in range(numbs):\n",
        "        fib_sequence.append(first)\n",
        "        first, second = second, first + second\n",
        "    return fib_sequence\n",
        "\n",
        "def cal_fibo():\n",
        "    numbers = iter(fibonacci(5))\n",
        "    print(next(numbers))\n",
        "cal_fibo()"
      ],
      "metadata": {
        "id": "0TU0MLsQnoN4",
        "colab": {
          "base_uri": "https://localhost:8080/"
        },
        "outputId": "d671a2cc-b9e9-4a0e-de32-b9f23dc6f5ff"
      },
      "execution_count": null,
      "outputs": [
        {
          "output_type": "stream",
          "name": "stdout",
          "text": [
            "0\n"
          ]
        }
      ]
    },
    {
      "cell_type": "code",
      "source": [
        "#6.  Write a generator function in Python that yields the powers of 2 up to a given exponent\n",
        "def square(numbs):\n",
        "  for i in range(1,numbs):\n",
        "      yield i**2\n",
        "a=square(20)\n",
        "next(a)\n",
        "next(a)\n",
        "next(a)\n",
        "next(a)\n",
        "next(a)\n",
        "next(a)\n",
        "next(a)\n",
        "next(a)\n",
        "next(a)\n",
        "next(a)\n",
        "next(a)\n",
        "next(a)"
      ],
      "metadata": {
        "colab": {
          "base_uri": "https://localhost:8080/"
        },
        "id": "N9DBkimAZD0Q",
        "outputId": "637045a4-5cc1-4ac8-b185-ca056558e019"
      },
      "execution_count": null,
      "outputs": [
        {
          "output_type": "execute_result",
          "data": {
            "text/plain": [
              "144"
            ]
          },
          "metadata": {},
          "execution_count": 20
        }
      ]
    },
    {
      "cell_type": "code",
      "source": [
        "#7. Implement a generator function that reads a file line by line and yields each line as a string\n",
        "def line(string):\n",
        "    for i in string:\n",
        "      yield i\n",
        "name=\"Rafsan\"\n",
        "s=line(name)\n",
        "next(s)\n",
        "next(s)"
      ],
      "metadata": {
        "colab": {
          "base_uri": "https://localhost:8080/",
          "height": 35
        },
        "id": "ScZ8xqFBauAS",
        "outputId": "d7a57e7d-7524-45f7-c66b-bd89e879fe98"
      },
      "execution_count": null,
      "outputs": [
        {
          "output_type": "execute_result",
          "data": {
            "text/plain": [
              "'a'"
            ],
            "application/vnd.google.colaboratory.intrinsic+json": {
              "type": "string"
            }
          },
          "metadata": {},
          "execution_count": 22
        }
      ]
    },
    {
      "cell_type": "code",
      "source": [
        "#8.  Use a lambda function in Python to sort a list of tuples based on the second element of each tuple\n",
        "def sort(t1, t2, t3):\n",
        "    sorting = lambda lst: sorted(lst) if lst[1] > lst[0] else sorted(lst, reverse=True)\n",
        "\n",
        "    sorted_t1 = sorting(list(t1))\n",
        "    sorted_t2 = sorting(list(t2))\n",
        "    sorted_t3 = sorting(list(t3))\n",
        "\n",
        "    print(sorted_t1, sorted_t2, sorted_t3)\n",
        "\n",
        "t1 = (1, 3, 2, 1)\n",
        "t2 = (3, 2, 5, 8)\n",
        "t3 = (5, 6, 3, 2, 1)\n",
        "\n",
        "sort(t1, t2, t3)\n",
        "\n"
      ],
      "metadata": {
        "colab": {
          "base_uri": "https://localhost:8080/"
        },
        "id": "uZPAiv7h57sF",
        "outputId": "8f498c30-14d3-4548-b1de-54503d1e295c"
      },
      "execution_count": 9,
      "outputs": [
        {
          "output_type": "stream",
          "name": "stdout",
          "text": [
            "[1, 1, 2, 3] [8, 5, 3, 2] [1, 2, 3, 5, 6]\n"
          ]
        }
      ]
    },
    {
      "cell_type": "code",
      "source": [
        "#9.  Write a Python program that uses `map()` to convert a list of temperatures from Celsius to Fahrenheit.\n",
        "lst=[30,40,63,88]\n",
        "def cel_to_far(x):\n",
        "  return (x*9/5)+32\n",
        "list(map(cel_to_far,lst))"
      ],
      "metadata": {
        "colab": {
          "base_uri": "https://localhost:8080/"
        },
        "id": "gZEh-MbA5aLn",
        "outputId": "5c0f5ea1-c161-4433-cc43-73d75f7a0d99"
      },
      "execution_count": 10,
      "outputs": [
        {
          "output_type": "execute_result",
          "data": {
            "text/plain": [
              "[86.0, 104.0, 145.4, 190.4]"
            ]
          },
          "metadata": {},
          "execution_count": 10
        }
      ]
    },
    {
      "cell_type": "code",
      "source": [
        "#10.  Create a Python program that uses `filter()` to remove all the vowels from a given string\n",
        "word = \"Rafsanei\"\n",
        "removed_vowels = ''.join(filter(lambda i: False if (i == 'A' or i == 'a' or\n",
        "                                                    i == 'E' or i == 'e' or\n",
        "                                                    i == 'I' or i == 'i' or\n",
        "                                                    i == 'O' or i == 'o' or\n",
        "                                                    i == 'U' or i == 'u') else True, word))\n",
        "print(removed_vowels)\n"
      ],
      "metadata": {
        "colab": {
          "base_uri": "https://localhost:8080/"
        },
        "id": "ZVssuO3D6YhR",
        "outputId": "aad4cf3b-50a2-4c02-ae36-7db021eef7d6"
      },
      "execution_count": 16,
      "outputs": [
        {
          "output_type": "stream",
          "name": "stdout",
          "text": [
            "Rfsn\n"
          ]
        }
      ]
    },
    {
      "cell_type": "code",
      "source": [
        "#11. Write a Python program, which returns a list with 2-tuples. Each tuple consists of the order number and the product of the price per item and the quantity. The product should be increased by 10,- € if the value of the order is smaller than 100,00 €\n",
        "orders = [\n",
        "    [34587, \"Learning Python, Mark Lutz\", 4, 40.95],\n",
        "    [98762, \"Programming Python, Mark Lutz\", 5, 56.80],\n",
        "    [77226, \"Head First Python, Paul Barry\", 3, 32.95],\n",
        "    [88112, \"Einführung in Python3, Bernd Klein\", 3, 24.99]\n",
        "]\n",
        "result = list(map(lambda x: (x[0], x[2] * x[3] if x[2] * x[3] >= 100 else x[2] * x[3] + 10), orders))\n",
        "\n",
        "print(result)"
      ],
      "metadata": {
        "colab": {
          "base_uri": "https://localhost:8080/"
        },
        "id": "FoqNzCzv8z-U",
        "outputId": "1769571e-499e-4745-dd3f-fd9657ee4f38"
      },
      "execution_count": 18,
      "outputs": [
        {
          "output_type": "stream",
          "name": "stdout",
          "text": [
            "[(34587, 163.8), (98762, 284.0), (77226, 108.85000000000001), (88112, 84.97)]\n",
            "\n"
          ]
        }
      ]
    }
  ]
}