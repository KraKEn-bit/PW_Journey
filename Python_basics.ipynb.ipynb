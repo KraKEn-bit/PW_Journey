{
  "nbformat": 4,
  "nbformat_minor": 0,
  "metadata": {
    "colab": {
      "provenance": []
    },
    "kernelspec": {
      "name": "python3",
      "display_name": "Python 3"
    },
    "language_info": {
      "name": "python"
    }
  },
  "cells": [
    {
      "cell_type": "markdown",
      "source": [
        "1. What is Python, and why is it popular?\n",
        "  \n",
        "  Ans:Python is a high-level, interpreted programming language known for its readability, simplicity, and versatility. Python is designed to be easy to understand and write, which is why it's often recommended for beginners but is also powerful enough for professionals working on complex systems.\n",
        "\n",
        "2. What is an interpreter in Python ?\n",
        "\n",
        "  Ans: an interpreter is a program that reads and executes the Python code line by line, translating it into machine code (which the computer understands) as it goes. This is different from a compiler, which translates the entire program into machine code before execution.\n",
        "\n",
        "3. What are pre-defined keywords in Python ?\n",
        "\n",
        "  Ans: predefined keywords (also called reserved words) are special words that have specific meanings and are part of the Python syntax. These keywords cannot be used as identifiers (like variable names, function names, or class names) because they are reserved for Python's internal use. Example: False,none,True,elif,if,and,asdel,for etc\n",
        "\n",
        "4. Can keywords be used as variable names?\n",
        "\n",
        "  Ans: No, keywords cannot be used as variable names in Python. Keywords are reserved words that have special meaning in the language, and they are used to define the syntax and structure of Python programs.\n",
        "\n",
        "5. What is mutability in Python?\n",
        "  \n",
        "  Ans: Meaning if I can change any datas of a type/variable. This is called mutability.\n",
        "\n",
        "6. Why are lists mutable, but tuples are immutable?\n",
        "\n",
        "  Ans: lists are mutable, meaning their contents can be modified after creation, allowing for operations such as adding, removing, or changing elements. This mutability makes lists ideal for situations where the data is expected to change over time.\n",
        "  \n",
        "  On the other hand, tuples are immutable, meaning once they are created, their contents cannot be modified in any way. This immutability ensures that the data within a tuple remains constant and is particularly useful when the data should not change.\n",
        "\n",
        "7. What is the difference between “==” and “is” operators in Python?\n",
        "\n",
        "  Ans: == (Equality Operator): The == operator checks if the values of two objects are equal. It compares the data stored in the objects, regardless of whether the two objects are the same instance or not.\n",
        "\n",
        "  is (Identity Operator): The is operator checks if two objects are the same in memory,whether they refer to the same object in memory (they have the same identity). This operator compares the memory address of the objects, not their values.\n",
        "\n",
        "8. What are logical operators in Python?\n",
        "\n",
        "  Ans: In Python, logical operators are used to combine conditional statements or expressions. They allow you to test multiple conditions and return a result based on whether the conditions are true or false.Example: and,or,not\n",
        "\n",
        "9. What is type casting in Python ?\n",
        "\n",
        "  Ans: Type casting in Python refers to the process of converting one data type into another.\n",
        "\n",
        "10.    What is the difference between implicit and explicit type casting ?\n",
        "\n",
        "  Ans: Implicit type casting occurs automatically in Python when the interpreter converts one data type to another without any explicit instruction from the programmer. This typically happens when performing operations between different data types, and Python automatically promotes the smaller or more specific data type to a broader one. For example, when an integer is added to a float, Python automatically converts the integer to a float to ensure the operation works without loss of precision. On the other hand, explicit type casting requires the programmer to manually convert one data type to another using functions like int(), float(), or str(). This is done when the programmer needs to control the conversion process, such as converting a string to an integer or a float to an integer. While implicit casting is handled by Python for ease of use, explicit casting gives the programmer more control over how data types are converted.\n",
        "\n",
        "11. What is the purpose of conditional statements in Python ?\n",
        "\n",
        "  Ans:  To check if the the output I desire is true or false.\n",
        "\n",
        "12. How does the elif statement work ?\n",
        "\n",
        "  Ans: The elif statement in Python is used to check multiple conditions in sequence after an initial if statement. It allows you to test more than one condition and execute a block of code for the first true condition. If none of the if or elif conditions are true, the else block (if provided) is executed.\n",
        "\n",
        "13. What is the difference between for and while loops ?\n",
        "\n",
        "  Ans: A for loop is used when you know how many times you want to iterate over a sequence (such as a list, tuple, string, or range) or any iterable object.The loop automatically terminates when all items in the sequence have been processed.\n",
        "\n",
        "  A while loop is used when you want to continue looping as long as a certain condition is true.The loop must include a mechanism to eventually break out of the loop.\n",
        "\n",
        "14. Describe a scenario where a while loop is more suitable than a for loop.\n",
        "  \n",
        "  Ans: A while loop is more suitable than a for loop when you don't know in advance how many iterations are needed, and the loop should continue until a certain condition is met.\n",
        "\n",
        "  Example scenario: A user is prompted to enter a valid password. The loop should continue asking the user for input until the correct password is entered, and the number of attempts is unknown.\n",
        "\n",
        "    password = \"\"\n",
        "\n",
        "    while password != \"secret\":\n",
        "\n",
        "    password = input(\"Enter password: \")\n",
        "    \n",
        "    print(\"Access granted!\")\n",
        "\n"
      ],
      "metadata": {
        "id": "W6MNTLtvAvSV"
      }
    },
    {
      "cell_type": "code",
      "source": [
        "#Write a Python program to print \"Hello, World!\n",
        "print(\"Hello, World!\")"
      ],
      "metadata": {
        "id": "8y5wfu9qAwBJ",
        "colab": {
          "base_uri": "https://localhost:8080/"
        },
        "outputId": "1128b89a-ddd3-48b4-9c08-d532096df89c"
      },
      "execution_count": 1,
      "outputs": [
        {
          "output_type": "stream",
          "name": "stdout",
          "text": [
            "Hello, World!\n"
          ]
        }
      ]
    },
    {
      "cell_type": "code",
      "source": [
        "#Write a Python program that displays your name and age\n",
        "name = input(\"Enter your name: \")\n",
        "age = input(\"Enter your age: \")\n",
        "print(\"Hello \" + name + \". You are \"+age+\" years old\")"
      ],
      "metadata": {
        "colab": {
          "base_uri": "https://localhost:8080/"
        },
        "id": "BobH1X9hf07J",
        "outputId": "4d93361e-6c03-4a47-8cc3-d18ec5335fc3"
      },
      "execution_count": 4,
      "outputs": [
        {
          "output_type": "stream",
          "name": "stdout",
          "text": [
            "Enter your name: Rafsan\n",
            "Enter your age: 21\n",
            "Hello Rafsan. You are 21 years old\n"
          ]
        }
      ]
    },
    {
      "cell_type": "code",
      "source": [
        "#Write code to print all the pre-defined keywords in Python using the keyword library\n",
        "import keyword\n",
        "print(keyword.kwlist)\n"
      ],
      "metadata": {
        "colab": {
          "base_uri": "https://localhost:8080/"
        },
        "id": "dqD2n1YegQMW",
        "outputId": "fcd5c8e2-68e6-4a41-8cd7-a27104996a66"
      },
      "execution_count": 15,
      "outputs": [
        {
          "output_type": "stream",
          "name": "stdout",
          "text": [
            "['False', 'None', 'True', 'and', 'as', 'assert', 'async', 'await', 'break', 'class', 'continue', 'def', 'del', 'elif', 'else', 'except', 'finally', 'for', 'from', 'global', 'if', 'import', 'in', 'is', 'lambda', 'nonlocal', 'not', 'or', 'pass', 'raise', 'return', 'try', 'while', 'with', 'yield']\n"
          ]
        }
      ]
    },
    {
      "cell_type": "code",
      "source": [
        "#Create a list and tuple in Python, and demonstrate how attempting to change an element works differently for each.\n",
        "#list\n",
        "lst = [1,2,3,\"rafsan\",True]\n",
        "lst[3]=\"Kabir\"\n",
        "print(lst)\n",
        "\n",
        "#tuple\n",
        "tple = (1,2,3,\"rafsan\",True)\n",
        "tple[3]=\"tasin\"\n",
        "print(tple)"
      ],
      "metadata": {
        "colab": {
          "base_uri": "https://localhost:8080/",
          "height": 211
        },
        "id": "zmtBpbZihNGh",
        "outputId": "91ee0545-e538-4536-e7cb-e5f00c27b6b3"
      },
      "execution_count": 17,
      "outputs": [
        {
          "output_type": "stream",
          "name": "stdout",
          "text": [
            "[1, 2, 3, 'Kabir', True]\n"
          ]
        },
        {
          "output_type": "error",
          "ename": "TypeError",
          "evalue": "'tuple' object does not support item assignment",
          "traceback": [
            "\u001b[0;31m---------------------------------------------------------------------------\u001b[0m",
            "\u001b[0;31mTypeError\u001b[0m                                 Traceback (most recent call last)",
            "\u001b[0;32m<ipython-input-17-6afd969d209b>\u001b[0m in \u001b[0;36m<cell line: 0>\u001b[0;34m()\u001b[0m\n\u001b[1;32m      7\u001b[0m \u001b[0;31m#tuple\u001b[0m\u001b[0;34m\u001b[0m\u001b[0;34m\u001b[0m\u001b[0m\n\u001b[1;32m      8\u001b[0m \u001b[0mtple\u001b[0m \u001b[0;34m=\u001b[0m \u001b[0;34m(\u001b[0m\u001b[0;36m1\u001b[0m\u001b[0;34m,\u001b[0m\u001b[0;36m2\u001b[0m\u001b[0;34m,\u001b[0m\u001b[0;36m3\u001b[0m\u001b[0;34m,\u001b[0m\u001b[0;34m\"rafsan\"\u001b[0m\u001b[0;34m,\u001b[0m\u001b[0;32mTrue\u001b[0m\u001b[0;34m)\u001b[0m\u001b[0;34m\u001b[0m\u001b[0;34m\u001b[0m\u001b[0m\n\u001b[0;32m----> 9\u001b[0;31m \u001b[0mtple\u001b[0m\u001b[0;34m[\u001b[0m\u001b[0;36m3\u001b[0m\u001b[0;34m]\u001b[0m\u001b[0;34m=\u001b[0m\u001b[0;34m\"tasin\"\u001b[0m\u001b[0;34m\u001b[0m\u001b[0;34m\u001b[0m\u001b[0m\n\u001b[0m\u001b[1;32m     10\u001b[0m \u001b[0mprint\u001b[0m\u001b[0;34m(\u001b[0m\u001b[0mtple\u001b[0m\u001b[0;34m)\u001b[0m\u001b[0;34m\u001b[0m\u001b[0;34m\u001b[0m\u001b[0m\n",
            "\u001b[0;31mTypeError\u001b[0m: 'tuple' object does not support item assignment"
          ]
        }
      ]
    },
    {
      "cell_type": "code",
      "source": [
        " #Write a function to demonstrate the behavior of mutable and immutable arguments.\n",
        "\n",
        "def demo(mutable, immutable):\n",
        "    immutable += 5\n",
        "    mutable.append(100)\n",
        "x = 10\n",
        "y = [1, 2, 3]\n",
        "demo(y, x)\n",
        "print(f\"Immutable after: {x}\")\n",
        "print(f\"Mutable after: {y}\")\n"
      ],
      "metadata": {
        "colab": {
          "base_uri": "https://localhost:8080/"
        },
        "id": "75-EVEzdhn2e",
        "outputId": "d84c5fb2-aa33-4a92-ad65-dd088887ce08"
      },
      "execution_count": 18,
      "outputs": [
        {
          "output_type": "stream",
          "name": "stdout",
          "text": [
            "Immutable after: 10\n",
            "Mutable after: [1, 2, 3, 100]\n"
          ]
        }
      ]
    },
    {
      "cell_type": "code",
      "source": [
        " #Write a program that performs basic arithmetic operations on two user-input numbers\n",
        "\n",
        "numb1 = int(input(\"Enter numb1: \"))\n",
        "numb2 = int(input(\"Enter numb2: \"))\n",
        "print(f\"Total value is {numb1+numb2}\")"
      ],
      "metadata": {
        "colab": {
          "base_uri": "https://localhost:8080/"
        },
        "id": "6bPPqu4QiM92",
        "outputId": "fd041eb0-e92b-405b-c93c-4579ac4808d4"
      },
      "execution_count": 20,
      "outputs": [
        {
          "output_type": "stream",
          "name": "stdout",
          "text": [
            "Enter numb1: 34\n",
            "Enter numb2: 62\n",
            "Total value is 96\n"
          ]
        }
      ]
    },
    {
      "cell_type": "code",
      "source": [
        "#. Write a program to demonstrate the use of logical operators.\n",
        "a = True\n",
        "b= False\n",
        "print(a and b)\n",
        "print(a or b)\n",
        "print(a is not b)"
      ],
      "metadata": {
        "colab": {
          "base_uri": "https://localhost:8080/"
        },
        "id": "slAmnDEWisgg",
        "outputId": "a360df2e-e2ed-47bf-a8cf-ed8866902ee9"
      },
      "execution_count": 21,
      "outputs": [
        {
          "output_type": "stream",
          "name": "stdout",
          "text": [
            "False\n",
            "True\n",
            "True\n"
          ]
        }
      ]
    },
    {
      "cell_type": "code",
      "source": [
        "# Write a Python program to convert user input from string to integer, float, and boolean types.\n",
        "numb1 = int(input(\"Enter numb1: \"))\n",
        "numb2 = float(input(\"Enter numb1: \"))\n",
        "numb3 = bool(input(\"Enter numb1: \"))\n",
        "print(type(numb1))\n",
        "print(type(numb2))\n",
        "print(type(numb3))"
      ],
      "metadata": {
        "colab": {
          "base_uri": "https://localhost:8080/"
        },
        "id": "yJtC-Ja2jB-m",
        "outputId": "0c578c20-22a1-4410-d00e-b876293c18df"
      },
      "execution_count": 23,
      "outputs": [
        {
          "output_type": "stream",
          "name": "stdout",
          "text": [
            "Enter numb1: 315\n",
            "Enter numb1: 45.6\n",
            "Enter numb1: True\n",
            "<class 'int'>\n",
            "<class 'float'>\n",
            "<class 'bool'>\n"
          ]
        }
      ]
    },
    {
      "cell_type": "code",
      "source": [
        "#Write code to demonstrate type casting with list elements.\n",
        "lst = [\"1\",\"2\",\"3\",\"4\"]\n",
        "lst2 = []\n",
        "for i in lst:\n",
        "  lst2.append(int(i))\n",
        "for i in lst2:\n",
        "  print(type(i))"
      ],
      "metadata": {
        "colab": {
          "base_uri": "https://localhost:8080/"
        },
        "id": "IM7aJrpwjjvn",
        "outputId": "4150363a-c126-4d37-bc33-ce6ba3b675ef"
      },
      "execution_count": 27,
      "outputs": [
        {
          "output_type": "stream",
          "name": "stdout",
          "text": [
            "<class 'int'>\n",
            "<class 'int'>\n",
            "<class 'int'>\n",
            "<class 'int'>\n"
          ]
        }
      ]
    },
    {
      "cell_type": "code",
      "source": [
        "# Write a program that checks if a number is positive, negative, or zero.\n",
        "number  = int(input(\"Enter a number: \"))\n",
        "if (number>0):\n",
        "  print(\"Positive\")\n",
        "elif (number<0):\n",
        "  print(\"Negative\")\n",
        "else:\n",
        "  print(\"Number is zero\")"
      ],
      "metadata": {
        "colab": {
          "base_uri": "https://localhost:8080/"
        },
        "id": "cyCrl5blkeD1",
        "outputId": "f90333f3-7ab3-4c44-cbed-01342ce6dfc1"
      },
      "execution_count": 31,
      "outputs": [
        {
          "output_type": "stream",
          "name": "stdout",
          "text": [
            "Enter a number: -67\n",
            "Negative\n"
          ]
        }
      ]
    },
    {
      "cell_type": "code",
      "source": [
        "# Write a for loop to print numbers from 1 to 10.\n",
        "for i in range(1,11):\n",
        "  print(i,end=\" \")"
      ],
      "metadata": {
        "colab": {
          "base_uri": "https://localhost:8080/"
        },
        "id": "MBLejPcqk1q0",
        "outputId": "0d2e6d46-6332-47b9-ec8b-943e41b63c6b"
      },
      "execution_count": 33,
      "outputs": [
        {
          "output_type": "stream",
          "name": "stdout",
          "text": [
            "1 2 3 4 5 6 7 8 9 10 "
          ]
        }
      ]
    },
    {
      "cell_type": "code",
      "source": [
        "# Write a Python program to find the sum of all even numbers between 1 and 50.\n",
        "sum=0\n",
        "for i in range(1,51):\n",
        "  if(i%2==0):\n",
        "    sum+=i\n",
        "print(sum)"
      ],
      "metadata": {
        "colab": {
          "base_uri": "https://localhost:8080/"
        },
        "id": "oIpA99Cik-BJ",
        "outputId": "c074ee87-6f02-44a1-8712-9108d18efafc"
      },
      "execution_count": 34,
      "outputs": [
        {
          "output_type": "stream",
          "name": "stdout",
          "text": [
            "650\n"
          ]
        }
      ]
    },
    {
      "cell_type": "code",
      "source": [
        "# Write a program to reverse a string using a while loop.\n",
        "st = input(\"Enter a string: \")\n",
        "reversed_str = \"\"\n",
        "length = len(st)\n",
        "i = length - 1\n",
        "while i >= 0:\n",
        "    reversed_str += st[i]\n",
        "    i -= 1\n",
        "print(\"Reversed string:\", reversed_str)\n",
        "\n"
      ],
      "metadata": {
        "colab": {
          "base_uri": "https://localhost:8080/"
        },
        "id": "Re3H-1EOlORc",
        "outputId": "13287454-eae6-4d5e-f35e-4b31241d3a3e"
      },
      "execution_count": 36,
      "outputs": [
        {
          "output_type": "stream",
          "name": "stdout",
          "text": [
            "Enter a string: Rasan\n",
            "Reversed string: nasaR\n"
          ]
        }
      ]
    },
    {
      "cell_type": "code",
      "source": [
        "# Write a Python program to calculate the factorial of a number provided by the user using a while loop.\n",
        "number = int(input(\"Enter a number: \"))\n",
        "multiply = 1\n",
        "while(number>0):\n",
        "  multiply = multiply*number\n",
        "  number-=1\n",
        "print(\"Factorial value is: \",multiply)"
      ],
      "metadata": {
        "colab": {
          "base_uri": "https://localhost:8080/"
        },
        "id": "weWCRnPemqqM",
        "outputId": "f34b9242-81c4-4fb2-eb2e-f293306d3089"
      },
      "execution_count": 41,
      "outputs": [
        {
          "output_type": "stream",
          "name": "stdout",
          "text": [
            "Enter a number: 5\n",
            "Factorial value is:  120\n"
          ]
        }
      ]
    }
  ]
}